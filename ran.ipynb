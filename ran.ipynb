{
 "cells": [
  {
   "cell_type": "code",
   "execution_count": 11,
   "id": "f3e8a1de",
   "metadata": {},
   "outputs": [],
   "source": [
    "import numpy as np\n",
    "import pandas as pd\n",
    "import matplotlib.pyplot as plt\n",
    "from random import randint\n",
    "%matplotlib inline \n",
    "import warnings\n",
    "from sklearn.ensemble import RandomForestClassifier\n",
    "from sklearn import metrics\n",
    "from sklearn.metrics import accuracy_score"
   ]
  },
  {
   "cell_type": "code",
   "execution_count": 12,
   "id": "f24c19ed",
   "metadata": {},
   "outputs": [],
   "source": [
    "data = pd.read_csv(r\"/home/dhanush17/Documents/newpikle/Final_Data.csv\")"
   ]
  },
  {
   "cell_type": "code",
   "execution_count": 13,
   "id": "96ffade6",
   "metadata": {},
   "outputs": [],
   "source": [
    "X = data[['Area', 'Soil_type:_chalky', 'Soil_type:_clay', 'Soil_type:_loamy',\n",
    "             'Soil_type:_peaty', 'Soil_type:_sandy', 'Soil_type:_silt', 'Soil_type:_silty',\n",
    "             'District:_AHMEDNAGAR', 'District:_AKOLA', 'District:_AMRAVATI',\n",
    "             'District:_AURANGABAD', 'District:_BEED', 'District:_BHANDARA',\n",
    "             'District:_BULDHANA', 'District:_CHANDRAPUR', 'District:_DHULE',\n",
    "             'District:_GADCHIROLI', 'District:_GONDIA', 'District:_HINGOLI',\n",
    "             'District:_JALGAON', 'District:_JALNA', 'District:_KOLHAPUR',\n",
    "             'District:_LATUR', 'District:_NAGPUR', 'District:_NANDED',\n",
    "             'District:_NANDURBAR', 'District:_NASHIK', 'District:_OSMANABAD',\n",
    "             'District:_PARBHANI', 'District:_PUNE', 'District:_SANGLI',\n",
    "             'District:_SATARA', 'District:_SOLAPUR', 'District:_THANE',\n",
    "             'District:_WARDHA', 'District:_WASHIM', 'District:_YAVATMAL',\n",
    "             'Crop:_Bajra', 'Crop:_Jowar', 'Crop:_Wheat']].copy()\n",
    "label_data = data[\"Yield\"]"
   ]
  },
  {
   "cell_type": "code",
   "execution_count": 14,
   "id": "976f2565",
   "metadata": {},
   "outputs": [],
   "source": [
    "from sklearn.model_selection import train_test_split\n",
    "def split(df,label):\n",
    "    X_tr, X_te, Y_tr, Y_te = train_test_split(df, label, test_size=0.25, random_state=42)\n",
    "    return X_tr, X_te, Y_tr, Y_te"
   ]
  },
  {
   "cell_type": "code",
   "execution_count": 15,
   "id": "17390103",
   "metadata": {},
   "outputs": [],
   "source": [
    "X_train,X_test, Y_train, Y_test = split(X,label_data)"
   ]
  },
  {
   "cell_type": "code",
   "execution_count": 16,
   "id": "ca5e2cad",
   "metadata": {},
   "outputs": [
    {
     "name": "stdout",
     "output_type": "stream",
     "text": [
      "0.0712166172106825\n"
     ]
    }
   ],
   "source": [
    "model = RandomForestClassifier(max_depth=6)\n",
    "model.fit(X_train,Y_train)\n",
    "predictions = model.predict(X_test)\n",
    "print(accuracy_score(Y_test,predictions))"
   ]
  },
  {
   "cell_type": "code",
   "execution_count": 21,
   "id": "2d45e222",
   "metadata": {},
   "outputs": [
    {
     "data": {
      "text/plain": [
       "['./random_forest.joblib']"
      ]
     },
     "execution_count": 21,
     "metadata": {},
     "output_type": "execute_result"
    }
   ],
   "source": [
    "import joblib\n",
    "joblib.dump(model, \"./random_forest.joblib\")"
   ]
  },
  {
   "cell_type": "code",
   "execution_count": 22,
   "id": "f4a254f1",
   "metadata": {},
   "outputs": [],
   "source": [
    "import bz2\n",
    "import pickle\n",
    "import _pickle as cPickle"
   ]
  },
  {
   "cell_type": "code",
   "execution_count": 27,
   "id": "a13e9edf",
   "metadata": {},
   "outputs": [],
   "source": [
    "def full_pickle(title, data):\n",
    " pikd = open(title + '.pkl', 'wb')\n",
    " pickle.dump(data, pikd)\n",
    " pikd.close()"
   ]
  },
  {
   "cell_type": "code",
   "execution_count": 28,
   "id": "d1e34dc5",
   "metadata": {},
   "outputs": [],
   "source": [
    "full_pickle('dcc_rf', model) "
   ]
  },
  {
   "cell_type": "code",
   "execution_count": 28,
   "id": "82608a81",
   "metadata": {},
   "outputs": [],
   "source": [
    "def loosen(file):\n",
    " pikd = open(file, 'rb')\n",
    " data = pickle.load(pikd)\n",
    " pikd.close()\n",
    " return data"
   ]
  },
  {
   "cell_type": "code",
   "execution_count": 29,
   "id": "58a9f9c1",
   "metadata": {},
   "outputs": [],
   "source": [
    "data = loosen('dcc_rf.pickle') "
   ]
  },
  {
   "cell_type": "code",
   "execution_count": 30,
   "id": "319e5540",
   "metadata": {},
   "outputs": [],
   "source": [
    "def compressed_pickle(title, data):\n",
    " with bz2.BZ2File(title + '.pbz2', 'w') as f: \n",
    "     cPickle.dump(data, f)"
   ]
  },
  {
   "cell_type": "code",
   "execution_count": 31,
   "id": "de130bcd",
   "metadata": {},
   "outputs": [],
   "source": [
    "compressed_pickle('dcc_rf2', data) "
   ]
  },
  {
   "cell_type": "code",
   "execution_count": null,
   "id": "0b5876e6",
   "metadata": {},
   "outputs": [],
   "source": []
  }
 ],
 "metadata": {
  "kernelspec": {
   "display_name": "Python 3 (ipykernel)",
   "language": "python",
   "name": "python3"
  },
  "language_info": {
   "codemirror_mode": {
    "name": "ipython",
    "version": 3
   },
   "file_extension": ".py",
   "mimetype": "text/x-python",
   "name": "python",
   "nbconvert_exporter": "python",
   "pygments_lexer": "ipython3",
   "version": "3.10.4"
  }
 },
 "nbformat": 4,
 "nbformat_minor": 5
}
